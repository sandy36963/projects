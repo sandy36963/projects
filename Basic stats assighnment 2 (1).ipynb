{
 "cells": [
  {
   "cell_type": "code",
   "execution_count": 1,
   "id": "c3c68273-b756-423e-b736-676f792d736f",
   "metadata": {},
   "outputs": [
    {
     "data": {
      "text/plain": [
       "(15, np.float64(1.2386666666666666), np.float64(0.19316412956959936))"
      ]
     },
     "execution_count": 1,
     "metadata": {},
     "output_type": "execute_result"
    }
   ],
   "source": [
    "# Import necessary libraries\n",
    "import numpy as np\n",
    "import scipy.stats as stats\n",
    "\n",
    "# Durability data (in millions of characters)\n",
    "data = np.array([\n",
    "    1.13, 1.55, 1.43, 0.92, 1.25, 1.36, 1.32, 0.85, 1.07,\n",
    "    1.48, 1.20, 1.33, 1.18, 1.22, 1.29\n",
    "])\n",
    "\n",
    "# Basic summary statistics\n",
    "n = len(data)\n",
    "sample_mean = np.mean(data)\n",
    "sample_std = np.std(data, ddof=1)  # sample standard deviation\n",
    "n, sample_mean, sample_std\n"
   ]
  },
  {
   "cell_type": "code",
   "execution_count": 2,
   "id": "da9954e9-7a28-424f-ac7d-46a243124ea4",
   "metadata": {},
   "outputs": [
    {
     "data": {
      "text/plain": [
       "(np.float64(1.0901973384384906), np.float64(1.3871359948948425))"
      ]
     },
     "execution_count": 2,
     "metadata": {},
     "output_type": "execute_result"
    }
   ],
   "source": [
    "# Degrees of freedom\n",
    "df = n - 1\n",
    "\n",
    "# Alpha and critical t-value\n",
    "alpha = 0.01\n",
    "t_critical = stats.t.ppf(1 - alpha/2, df)\n",
    "\n",
    "# Standard error\n",
    "se = sample_std / np.sqrt(n)\n",
    "\n",
    "# Margin of error\n",
    "moe = t_critical * se\n",
    "\n",
    "# Confidence Interval\n",
    "ci_lower = sample_mean - moe\n",
    "ci_upper = sample_mean + moe\n",
    "ci_lower, ci_upper\n"
   ]
  },
  {
   "cell_type": "code",
   "execution_count": 3,
   "id": "32c10967-dea3-448f-9f0c-08f6b2f91e5f",
   "metadata": {},
   "outputs": [
    {
     "data": {
      "text/plain": [
       "(np.float64(1.1056514133957607), np.float64(1.3716819199375725))"
      ]
     },
     "execution_count": 3,
     "metadata": {},
     "output_type": "execute_result"
    }
   ],
   "source": [
    "# Known population standard deviation\n",
    "sigma = 0.2\n",
    "\n",
    "# Critical z-value\n",
    "z_critical = stats.norm.ppf(1 - alpha/2)\n",
    "\n",
    "# Standard error using sigma\n",
    "se_known = sigma / np.sqrt(n)\n",
    "\n",
    "# Margin of error\n",
    "moe_known = z_critical * se_known\n",
    "\n",
    "# Confidence Interval\n",
    "ci_lower_known = sample_mean - moe_known\n",
    "ci_upper_known = sample_mean + moe_known\n",
    "ci_lower_known, ci_upper_known\n"
   ]
  },
  {
   "cell_type": "code",
   "execution_count": null,
   "id": "892e8cb6-89e0-40f6-92b2-7f050035b95b",
   "metadata": {},
   "outputs": [],
   "source": []
  }
 ],
 "metadata": {
  "kernelspec": {
   "display_name": "Python 3 (ipykernel)",
   "language": "python",
   "name": "python3"
  },
  "language_info": {
   "codemirror_mode": {
    "name": "ipython",
    "version": 3
   },
   "file_extension": ".py",
   "mimetype": "text/x-python",
   "name": "python",
   "nbconvert_exporter": "python",
   "pygments_lexer": "ipython3",
   "version": "3.13.5"
  }
 },
 "nbformat": 4,
 "nbformat_minor": 5
}
