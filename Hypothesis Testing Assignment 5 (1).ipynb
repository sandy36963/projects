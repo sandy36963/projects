{
 "cells": [
  {
   "cell_type": "code",
   "execution_count": 2,
   "id": "cd6d21d7-d58b-4b30-be38-39b9a4349370",
   "metadata": {},
   "outputs": [
    {
     "name": "stdout",
     "output_type": "stream",
     "text": [
      "Sample Mean: 3050\n",
      "Theoretical Mean: 4000\n",
      "Z Score: -38.00\n",
      "Critical Value (Z): 1.64\n",
      "Fail to reject the null hypothesis: No evidence of higher costs.\n"
     ]
    }
   ],
   "source": [
    "import math\n",
    "from scipy.stats import norm\n",
    "\n",
    "# Step 1: Given data\n",
    "sample_mean = 3050\n",
    "expected_mean = 1000 + 5 * 600  # = 4000\n",
    "std_dev_units = 25\n",
    "std_dev_cost = 5 * std_dev_units  # = 125\n",
    "sample_size = 25\n",
    "\n",
    "# Step 2: Calculate test statistic\n",
    "standard_error = std_dev_cost / math.sqrt(sample_size)\n",
    "z_score = (sample_mean - expected_mean) / standard_error\n",
    "\n",
    "# Step 3: Critical value at alpha = 0.05 (right-tailed test)\n",
    "alpha = 0.05\n",
    "z_critical = norm.ppf(1 - alpha)\n",
    "\n",
    "# Step 4: Decision\n",
    "print(f\"Sample Mean: {sample_mean}\")\n",
    "print(f\"Theoretical Mean: {expected_mean}\")\n",
    "print(f\"Z Score: {z_score:.2f}\")\n",
    "print(f\"Critical Value (Z): {z_critical:.2f}\")\n",
    "\n",
    "if z_score > z_critical:\n",
    "    print(\"Reject the null hypothesis: Costs are significantly higher.\")\n",
    "else:\n",
    "    print(\"Fail to reject the null hypothesis: No evidence of higher costs.\")\n",
    "\n"
   ]
  },
  {
   "cell_type": "code",
   "execution_count": null,
   "id": "2ec416c9-0522-4ba2-b0d5-337ccb4d795a",
   "metadata": {},
   "outputs": [],
   "source": []
  }
 ],
 "metadata": {
  "kernelspec": {
   "display_name": "Python 3 (ipykernel)",
   "language": "python",
   "name": "python3"
  },
  "language_info": {
   "codemirror_mode": {
    "name": "ipython",
    "version": 3
   },
   "file_extension": ".py",
   "mimetype": "text/x-python",
   "name": "python",
   "nbconvert_exporter": "python",
   "pygments_lexer": "ipython3",
   "version": "3.13.5"
  }
 },
 "nbformat": 4,
 "nbformat_minor": 5
}
