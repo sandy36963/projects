{
 "cells": [
  {
   "cell_type": "code",
   "execution_count": 4,
   "id": "f244554f-c1be-4f0e-9633-d1d30d412c03",
   "metadata": {},
   "outputs": [],
   "source": [
    "import pandas as pd\n",
    "import numpy as np\n",
    "from sklearn.feature_extraction.text import TfidfVectorizer\n",
    "from sklearn.metrics.pairwise import cosine_similarity\n",
    "from sklearn.model_selection import train_test_split\n",
    "from sklearn.metrics import precision_score, recall_score, f1_score\n"
   ]
  },
  {
   "cell_type": "code",
   "execution_count": 5,
   "id": "b030e7c7-9cf7-4177-bd23-4a5a95991242",
   "metadata": {},
   "outputs": [],
   "source": [
    "df = pd.read_csv(r\"C:\\Users\\LENOVO THINKPAD 13\\Downloads\\Recommendation System (1)\\anime.csv\")"
   ]
  },
  {
   "cell_type": "code",
   "execution_count": 6,
   "id": "4a15ac9a-5d7b-4301-85ba-8572bfbd9259",
   "metadata": {},
   "outputs": [
    {
     "data": {
      "text/html": [
       "<div>\n",
       "<style scoped>\n",
       "    .dataframe tbody tr th:only-of-type {\n",
       "        vertical-align: middle;\n",
       "    }\n",
       "\n",
       "    .dataframe tbody tr th {\n",
       "        vertical-align: top;\n",
       "    }\n",
       "\n",
       "    .dataframe thead th {\n",
       "        text-align: right;\n",
       "    }\n",
       "</style>\n",
       "<table border=\"1\" class=\"dataframe\">\n",
       "  <thead>\n",
       "    <tr style=\"text-align: right;\">\n",
       "      <th></th>\n",
       "      <th>anime_id</th>\n",
       "      <th>name</th>\n",
       "      <th>genre</th>\n",
       "      <th>type</th>\n",
       "      <th>episodes</th>\n",
       "      <th>rating</th>\n",
       "      <th>members</th>\n",
       "    </tr>\n",
       "  </thead>\n",
       "  <tbody>\n",
       "    <tr>\n",
       "      <th>0</th>\n",
       "      <td>32281</td>\n",
       "      <td>Kimi no Na wa.</td>\n",
       "      <td>Drama, Romance, School, Supernatural</td>\n",
       "      <td>Movie</td>\n",
       "      <td>1</td>\n",
       "      <td>9.37</td>\n",
       "      <td>200630</td>\n",
       "    </tr>\n",
       "    <tr>\n",
       "      <th>1</th>\n",
       "      <td>5114</td>\n",
       "      <td>Fullmetal Alchemist: Brotherhood</td>\n",
       "      <td>Action, Adventure, Drama, Fantasy, Magic, Mili...</td>\n",
       "      <td>TV</td>\n",
       "      <td>64</td>\n",
       "      <td>9.26</td>\n",
       "      <td>793665</td>\n",
       "    </tr>\n",
       "    <tr>\n",
       "      <th>2</th>\n",
       "      <td>28977</td>\n",
       "      <td>Gintama°</td>\n",
       "      <td>Action, Comedy, Historical, Parody, Samurai, S...</td>\n",
       "      <td>TV</td>\n",
       "      <td>51</td>\n",
       "      <td>9.25</td>\n",
       "      <td>114262</td>\n",
       "    </tr>\n",
       "    <tr>\n",
       "      <th>3</th>\n",
       "      <td>9253</td>\n",
       "      <td>Steins;Gate</td>\n",
       "      <td>Sci-Fi, Thriller</td>\n",
       "      <td>TV</td>\n",
       "      <td>24</td>\n",
       "      <td>9.17</td>\n",
       "      <td>673572</td>\n",
       "    </tr>\n",
       "    <tr>\n",
       "      <th>4</th>\n",
       "      <td>9969</td>\n",
       "      <td>Gintama&amp;#039;</td>\n",
       "      <td>Action, Comedy, Historical, Parody, Samurai, S...</td>\n",
       "      <td>TV</td>\n",
       "      <td>51</td>\n",
       "      <td>9.16</td>\n",
       "      <td>151266</td>\n",
       "    </tr>\n",
       "  </tbody>\n",
       "</table>\n",
       "</div>"
      ],
      "text/plain": [
       "   anime_id                              name  \\\n",
       "0     32281                    Kimi no Na wa.   \n",
       "1      5114  Fullmetal Alchemist: Brotherhood   \n",
       "2     28977                          Gintama°   \n",
       "3      9253                       Steins;Gate   \n",
       "4      9969                     Gintama&#039;   \n",
       "\n",
       "                                               genre   type episodes  rating  \\\n",
       "0               Drama, Romance, School, Supernatural  Movie        1    9.37   \n",
       "1  Action, Adventure, Drama, Fantasy, Magic, Mili...     TV       64    9.26   \n",
       "2  Action, Comedy, Historical, Parody, Samurai, S...     TV       51    9.25   \n",
       "3                                   Sci-Fi, Thriller     TV       24    9.17   \n",
       "4  Action, Comedy, Historical, Parody, Samurai, S...     TV       51    9.16   \n",
       "\n",
       "   members  \n",
       "0   200630  \n",
       "1   793665  \n",
       "2   114262  \n",
       "3   673572  \n",
       "4   151266  "
      ]
     },
     "execution_count": 6,
     "metadata": {},
     "output_type": "execute_result"
    }
   ],
   "source": [
    "df.head()"
   ]
  },
  {
   "cell_type": "code",
   "execution_count": 7,
   "id": "f296b315-7bb8-41a5-b3fa-abd703ee6794",
   "metadata": {},
   "outputs": [],
   "source": [
    "df.dropna(inplace = True)"
   ]
  },
  {
   "cell_type": "code",
   "execution_count": 8,
   "id": "cb5c3004-d2fd-444d-a582-59f48ab6b8b8",
   "metadata": {},
   "outputs": [],
   "source": [
    "df.drop_duplicates(inplace = True)"
   ]
  },
  {
   "cell_type": "code",
   "execution_count": 9,
   "id": "ccaf01de-9c53-44d2-b29a-fdc9b506f0ba",
   "metadata": {},
   "outputs": [],
   "source": [
    "df[\"genre\"] = df[\"genre\"].fillna(\"\")"
   ]
  },
  {
   "cell_type": "code",
   "execution_count": 10,
   "id": "67a74d3a-dc9f-46ed-9dec-74847c456301",
   "metadata": {},
   "outputs": [],
   "source": [
    "df[\"episodes\"] = pd.to_numeric(df[\"episodes\"], errors=\"coerce\")\n",
    "df[\"episodes\"] = df[\"episodes\"].fillna(df[\"episodes\"].median())\n"
   ]
  },
  {
   "cell_type": "code",
   "execution_count": 11,
   "id": "51ef9773-3306-4cf7-9c7e-0266f99b0b43",
   "metadata": {},
   "outputs": [],
   "source": [
    "df[\"metadata\"] = (\n",
    "    df[\"genre\"].astype(str) + \" \" +\n",
    "    df[\"type\"].astype(str) + \" \" +\n",
    "   df[\"episodes\"].astype(str) + \" \" +\n",
    "    df[\"rating\"].astype(str) + \" \" +\n",
    "df[\"members\"].astype(str)\n",
    ")"
   ]
  },
  {
   "cell_type": "code",
   "execution_count": 12,
   "id": "62ad21f5-0017-46a8-b622-42664aa198fc",
   "metadata": {},
   "outputs": [
    {
     "name": "stdout",
     "output_type": "stream",
     "text": [
      "TF-IDF Matrix Shape: (12017, 6668)\n"
     ]
    }
   ],
   "source": [
    "# TF-IDF Vectorization on metadata\n",
    "tfidf = TfidfVectorizer(stop_words=\"english\")\n",
    "tfidf_matrix = tfidf.fit_transform(df[\"metadata\"])\n",
    "\n",
    "print(\"TF-IDF Matrix Shape:\", tfidf_matrix.shape)\n"
   ]
  },
  {
   "cell_type": "code",
   "execution_count": 13,
   "id": "5ff5141b-1751-4e53-bd7a-51774c8e90d4",
   "metadata": {},
   "outputs": [],
   "source": [
    "5. \n",
    "    #Cosine_Similarity\n",
    "# -------------------------------\n",
    "cosine_sim = cosine_similarity(tfidf_matrix, tfidf_matrix)\n"
   ]
  },
  {
   "cell_type": "code",
   "execution_count": 14,
   "id": "7dd04668-9357-4203-95fa-6fc9f86bbf3b",
   "metadata": {},
   "outputs": [],
   "source": [
    "# 6. Recommendation Function\n",
    "# -------------------------------\n",
    "indices = pd.Series(df.index, index=df[\"name\"]).drop_duplicates()\n"
   ]
  },
  {
   "cell_type": "code",
   "execution_count": 15,
   "id": "4fa5472f-1711-403a-a621-436e414da2fa",
   "metadata": {},
   "outputs": [],
   "source": [
    "def recommend_df(title, top_n=10, threshold=0.2):\n",
    "    # check if title exists\n",
    "    if title not in indices:\n",
    "        return \"df not found in dataset!\"\n",
    "    \n",
    "    # index of the given title\n",
    "    idx = indices[title]\n",
    "    \n",
    "    # all similarity scores for this item\n",
    "    sim_scores = list(enumerate(cosine_sim[idx]))\n",
    "    \n",
    "    # sort by similarity score (descending)\n",
    "    sim_scores = sorted(sim_scores, key=lambda x: x[1], reverse=True)\n",
    "    \n",
    "    # filter using threshold\n",
    "    sim_scores = [(i, score) for i, score in sim_scores if score >= threshold]\n",
    "    \n",
    "    # skip the first item (itself) and limit to top_n\n",
    "    sim_scores = sim_scores[1: top_n+1]\n",
    "    \n",
    "    # get indices of the similar items\n",
    "    df_indices = [i[0] for i in sim_scores]\n",
    "    \n",
    "    # return selected columns from df\n",
    "    return df.iloc[df_indices][[\"name\", \"genre\", \"type\", \"rating\"]]\n"
   ]
  },
  {
   "cell_type": "code",
   "execution_count": 16,
   "id": "06ab586a-de1b-4098-b7ed-00c860ce9961",
   "metadata": {},
   "outputs": [
    {
     "name": "stdout",
     "output_type": "stream",
     "text": [
      "\n",
      "Recommended df for 'Naruto':\n",
      "                                                   name  \\\n",
      "7867                                    Iron Virgin Jun   \n",
      "4067                     Ikkitousen: Extravaganza Epoch   \n",
      "1930                                  Dragon Ball Super   \n",
      "1573  Naruto: Shippuuden Movie 3 - Hi no Ishi wo Tsu...   \n",
      "615                                  Naruto: Shippuuden   \n",
      "\n",
      "                                                  genre   type  rating  \n",
      "7867  Action, Comedy, Fantasy, Martial Arts, Super P...    OVA    4.81  \n",
      "4067  Action, Ecchi, Martial Arts, School, Seinen, S...    OVA    6.81  \n",
      "1930  Action, Adventure, Comedy, Fantasy, Martial Ar...     TV    7.40  \n",
      "1573  Action, Comedy, Martial Arts, Shounen, Super P...  Movie    7.50  \n",
      "615   Action, Comedy, Martial Arts, Shounen, Super P...     TV    7.94  \n"
     ]
    }
   ],
   "source": [
    "7. #TestRecommendation\n",
    "print(\"\\nRecommended df for 'Naruto':\")\n",
    "print(recommend_df(\"Naruto\", top_n=5, threshold=0.25))\n"
   ]
  },
  {
   "cell_type": "code",
   "execution_count": 20,
   "id": "edd1dff0-8efc-4d52-8b28-2fa827c22d8c",
   "metadata": {},
   "outputs": [
    {
     "name": "stdout",
     "output_type": "stream",
     "text": [
      "Precision: 0.0\n",
      "Recall: 0.0\n",
      "F1 Score: 0.0\n"
     ]
    }
   ],
   "source": [
    "import pandas as pd\n",
    "from sklearn.feature_extraction.text import TfidfVectorizer\n",
    "from sklearn.metrics.pairwise import cosine_similarity\n",
    "from sklearn.model_selection import train_test_split\n",
    "from sklearn.metrics import precision_score, recall_score, f1_score\n",
    "\n",
    "\n",
    "\n",
    "# 2. Split\n",
    "train, test = train_test_split(df, test_size=0.2, random_state=42)\n",
    "\n",
    "# 3. Build TF-IDF on the TRAIN set (or on full df if you prefer)\n",
    "tfidf = TfidfVectorizer(stop_words='english')\n",
    "tfidf_matrix = tfidf.fit_transform(train['metadata'])   # or df['metadata'] if you want full\n",
    "\n",
    "# 4. Compute cosine similarity\n",
    "cosine_sim = cosine_similarity(tfidf_matrix, tfidf_matrix)\n",
    "\n",
    "# 5. Build indices mapping (train set only here)\n",
    "indices = pd.Series(train.index, index=train['name']).drop_duplicates()\n",
    "\n",
    "# 6. Safe recommend_df\n",
    "def recommend_df(title, top_n=5, threshold=0.25):\n",
    "    \"\"\"\n",
    "    Return top_n recommendations for a given title.\n",
    "    Skip if title not in indices.\n",
    "    \"\"\"\n",
    "    if title not in indices:\n",
    "        return pd.DataFrame(columns=['name'])\n",
    "    \n",
    "    idx = indices[title]\n",
    "    if idx >= cosine_sim.shape[0]:  # safety check\n",
    "        return pd.DataFrame(columns=['name'])\n",
    "    \n",
    "    sim_scores = list(enumerate(cosine_sim[idx]))\n",
    "    sim_scores = sorted(sim_scores, key=lambda x: x[1], reverse=True)\n",
    "    sim_scores = [s for s in sim_scores if s[0] != idx and s[1] >= threshold]\n",
    "\n",
    "    top_items = sim_scores[:top_n]\n",
    "    anime_indices = [i[0] for i in top_items]\n",
    "\n",
    "    return train.iloc[anime_indices][['name', 'genre']]\n",
    "\n",
    "# 7. Evaluate precision/recall\n",
    "y_true = []\n",
    "y_pred = []\n",
    "\n",
    "for title in test[\"name\"].sample(20, random_state=42):\n",
    "    if title not in indices:\n",
    "        continue\n",
    "    \n",
    "    recs = recommend_df(title, top_n=5, threshold=0.25)\n",
    "    if recs.empty:\n",
    "        continue\n",
    "    \n",
    "    true_genre = set(train.loc[indices[title], \"genre\"].split(\", \"))\n",
    "\n",
    "    # positives = recommended items\n",
    "    for rec_title in recs[\"name\"].values:\n",
    "        rec_genre = set(train.loc[indices[rec_title], \"genre\"].split(\", \"))\n",
    "        y_true.append(1 if len(true_genre & rec_genre) > 0 else 0)\n",
    "        y_pred.append(1)  # predicted relevant\n",
    "\n",
    "    # negatives = random items not recommended\n",
    "    nonrecs = train.loc[~train[\"name\"].isin(recs[\"name\"].values)].sample(\n",
    "        min(5, len(train)), random_state=42\n",
    "    )\n",
    "    for non_title in nonrecs[\"name\"].values:\n",
    "        rec_genre = set(train.loc[indices[non_title], \"genre\"].split(\", \"))\n",
    "        y_true.append(1 if len(true_genre & rec_genre) > 0 else 0)\n",
    "        y_pred.append(0)  # predicted not relevant\n",
    "\n",
    "precision = precision_score(y_true, y_pred, zero_division=0)\n",
    "recall = recall_score(y_true, y_pred, zero_division=0)\n",
    "f1 = f1_score(y_true, y_pred, zero_division=0)\n",
    "\n",
    "print(\"Precision:\", precision)\n",
    "print(\"Recall:\", recall)\n",
    "print(\"F1 Score:\", f1)\n"
   ]
  },
  {
   "cell_type": "markdown",
   "id": "7c1a58fe-81de-4e6d-8ac8-7e8a7173d255",
   "metadata": {},
   "source": [
    "1️⃣ Difference between User-Based and Item-Based Collaborative Filtering\n",
    "\n",
    "| Feature                    | User-Based Collaborative Filtering                                                                                                 | Item-Based Collaborative Filtering                                                                      |\n",
    "| -------------------------- | ---------------------------------------------------------------------------------------------------------------------------------- | ------------------------------------------------------------------------------------------------------- |\n",
    "| **Definition**             | Finds users who behave similarly to the target user and recommends the items those similar users liked.                            | Finds items similar to the ones the target user has already interacted with and recommends those items. |\n",
    "| **Similarity Computation** | Similarity is calculated between **users** based on their item ratings or interactions.                                            | Similarity is calculated between **items** based on how users have rated or interacted with them.       |\n",
    "| **Recommendation Logic**   | “People like you liked these items.”                                                                                               | “Items like the ones you liked may interest you.”                                                       |\n",
    "| **Strengths**              | Good when user patterns are stable and the number of users is not extremely large.                                                 | More scalable and stable because items change less frequently than users.                               |\n",
    "| **Example**                | If User A and User B both rated similar movies highly, recommend to User A the movies that User B liked but User A hasn’t watched. | If a user liked *Movie X*, recommend *Movie Y* if most users who liked X also liked Y.                  |\n"
   ]
  },
  {
   "cell_type": "markdown",
   "id": "74d94e33-322f-4c5e-b050-18fdbfe857a1",
   "metadata": {},
   "source": [
    "2️⃣ What is Collaborative Filtering and How It Works\n",
    "\n",
    "Definition:\n",
    "Collaborative Filtering (CF) is a technique used in recommender systems to predict a user’s interests by collecting and analyzing information from many users’ behaviors (ratings, clicks, purchases). It does not need explicit information about the content of items (like genres or descriptions).\n",
    "\n",
    "How it works (steps):\n",
    "\n",
    "Create a User–Item Interaction Matrix\n",
    "Rows represent users, columns represent items. Cells contain ratings or implicit feedback (clicks, purchases).\n",
    "\n",
    "Compute Similarities\n",
    "\n",
    "In user-based CF: find users with similar behavior patterns.\n",
    "\n",
    "In item-based CF: find items that are commonly liked or purchased together.\n",
    "\n",
    "Predict Missing Preferences\n",
    "Estimate how likely the user is to like an unseen item based on ratings of similar users or similar items.\n",
    "\n",
    "Generate Recommendations\n",
    "Rank items by the predicted score and present the top-N items to the user.\n",
    "\n",
    "Example:\n",
    "Netflix or Amazon recommend content using collaborative filtering:\n",
    "\n",
    "“Users who watched Inception also watched Interstellar” (item-based).\n",
    "\n",
    "“People with viewing habits like yours watched these shows” (user-based)"
   ]
  }
 ],
 "metadata": {
  "kernelspec": {
   "display_name": "Python 3 (ipykernel)",
   "language": "python",
   "name": "python3"
  },
  "language_info": {
   "codemirror_mode": {
    "name": "ipython",
    "version": 3
   },
   "file_extension": ".py",
   "mimetype": "text/x-python",
   "name": "python",
   "nbconvert_exporter": "python",
   "pygments_lexer": "ipython3",
   "version": "3.13.5"
  }
 },
 "nbformat": 4,
 "nbformat_minor": 5
}
